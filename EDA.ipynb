{
 "cells": [
  {
   "cell_type": "markdown",
   "id": "stuffed-investigator",
   "metadata": {},
   "source": [
    "# <center>EDA for Yahoo Finance Webscrape</center>"
   ]
  },
  {
   "cell_type": "code",
   "execution_count": 1,
   "id": "potential-produce",
   "metadata": {},
   "outputs": [],
   "source": [
    "import os.path\n",
    "\n",
    "import requests\n",
    "import pandas as pd\n",
    "import re\n",
    "from selenium import webdriver\n",
    "from selenium.webdriver.chrome.options import Options\n",
    "#from selenium.webdriver.support.ui import WebDriverWait\n",
    "#from selenium.webdriver.common.by import By\n",
    "#from selenium.webdriver.support import expected_conditions as EC\n",
    "from bs4 import BeautifulSoup\n",
    "import numpy\n",
    "import seaborn as sns\n",
    "import matplotlib.pyplot as plt\n",
    "\n",
    "pd.options.display.float_format = '{:.0f}'.format\n",
    "\n",
    "chrome_options = Options()\n",
    "chrome_options.add_argument('--headless')"
   ]
  },
  {
   "cell_type": "code",
   "execution_count": 2,
   "id": "suspected-chapel",
   "metadata": {},
   "outputs": [],
   "source": [
    "# Old version\n",
    "#def get_all_tickers():\n",
    "#    path = './data/nasdaq_tickers.csv'\n",
    "#    if(os.path.isfile(path)):\n",
    "#        return pd.read_csv(path)\n",
    "#    else:\n",
    "#        tickers1 = pd.read_csv('./data/nasdaq_screener_1617441070940.csv')\n",
    "#        tickers2 = pd.read_csv('./data/nasdaq_screener_1617441128021.csv')\n",
    "#        tickers3 = pd.read_csv('./data/nasdaq_screener_1617441157210.csv')\n",
    "#\n",
    "#        total = [symbol for symbol in pd.concat([tickers1['Symbol'], \n",
    "#                                               tickers2['Symbol'], \n",
    "#                                               tickers3['Symbol']]\n",
    "#                                             )]\n",
    "#        print(total)\n",
    "#        total = pd.DataFrame(total)\n",
    "#        total.to_csv(r'./data/nasdaq_tickers.csv', index=False)\n",
    "#        return total\n",
    "#get_all_tickers()"
   ]
  },
  {
   "cell_type": "code",
   "execution_count": 3,
   "id": "standing-motivation",
   "metadata": {},
   "outputs": [],
   "source": [
    "def get_tickers(*csvs):\n",
    "    \"\"\"Accepts a collection of file paths\n",
    "       ----------------------------------\n",
    "       File output goes to ./data/nasdaq_tickers as a csv file\n",
    "       ----------------------------------\n",
    "       Returns a pandas DataFrame\"\"\"\n",
    "    \n",
    "    path = './data/nasdaq_tickers.csv'\n",
    "    if(os.path.isfile(path)):\n",
    "        return pd.read_csv(path)\n",
    "    else:\n",
    "        total = [symbol for symbol in pd.concat([pd.read_csv(csv)['Symbol'] for csv in csvs[0]])]\n",
    "        total = pd.DataFrame(total)\n",
    "        total.to_csv(r'./data/nasdaq_tickers.csv', index=False)\n",
    "        return total"
   ]
  },
  {
   "cell_type": "code",
   "execution_count": 4,
   "id": "optical-liquid",
   "metadata": {},
   "outputs": [],
   "source": [
    "tickers_raw = ['./data/nasdaq_screener_1617441070940.csv', './data/nasdaq_screener_1617441128021.csv', './data/nasdaq_screener_1617441157210.csv']\n",
    "tickers = get_tickers(tickers_raw)\n",
    "tickers = tickers.to_numpy().ravel()"
   ]
  },
  {
   "cell_type": "code",
   "execution_count": 5,
   "id": "addressed-velvet",
   "metadata": {
    "scrolled": true
   },
   "outputs": [],
   "source": [
    "def bypass_gdpr(driver, url):\n",
    "    \"\"\"Accepts the webdriver and the url (works only for yahoo finance)\n",
    "       ----------------------------------------------------------------\n",
    "       Returns None\n",
    "    \"\"\"\n",
    "    driver.get(url)\n",
    "    button = driver.find_element_by_name('agree')\n",
    "    driver.execute_script('arguments[0].click()', button)"
   ]
  },
  {
   "cell_type": "code",
   "execution_count": 6,
   "id": "cellular-headline",
   "metadata": {},
   "outputs": [],
   "source": [
    "def get_features(features):\n",
    "    result = {}\n",
    "    temp = {}\n",
    "    for i, item in enumerate(features):\n",
    "        entries = [line.text for line in features[i].find_all('div', class_='D(tbc)')]\n",
    "        if len(entries) > 0:\n",
    "            temp = {entries[0]: entries[1:]}\n",
    "        result.update(temp)\n",
    "        temp = {}\n",
    "    return result"
   ]
  },
  {
   "cell_type": "code",
   "execution_count": 7,
   "id": "faced-plumbing",
   "metadata": {},
   "outputs": [],
   "source": [
    "def get_headers(features):\n",
    "    return [header.text for header in features[0].find_all('div', class_='D(ib)')]"
   ]
  },
  {
   "cell_type": "code",
   "execution_count": 8,
   "id": "modified-idaho",
   "metadata": {},
   "outputs": [],
   "source": [
    "# Path to webdriver\n",
    "path_to_driver = '/usr/bin/chromedriver'\n",
    "# Base url for scraping\n",
    "url = 'https://finance.yahoo.com/quote/'\n",
    "# Initiate webdriver\n",
    "chrome = webdriver.Chrome(path_to_driver, options=chrome_options)\n",
    "# As the GDPR cookie consent pops up on driver start we have to deal with it\n",
    "bypass_gdpr(chrome, url)"
   ]
  },
  {
   "cell_type": "code",
   "execution_count": 40,
   "id": "patent-hypothetical",
   "metadata": {},
   "outputs": [
    {
     "name": "stdout",
     "output_type": "stream",
     "text": [
      "{'AACG': {'close_price': '4.1900'}, 'Breakdown': {'Total Revenue', 'Basic EPS', 'Basic Average Shares', 'Tax Rate for Calcs', 'Other Income Expense', 'Net Interest Income', 'Cost of Revenue', 'Reconciled Cost of Revenue', 'Total Expenses', 'Diluted Average Shares', 'Net Non Operating Interest Income Expense', 'Normalized Income', 'Total Unusual Items Excluding Goodwill', 'Net Income Common Stockholders', 'Gross Profit', 'Net Income from Continuing Operation Net Minority Interest', 'Operating Income', 'Total Operating Income as Reported', 'Normalized EBITDA', 'Reconciled Depreciation', 'Total Unusual Items', 'Operating Expense', 'EBITDA', 'Diluted EPS', 'Net Income from Continuing & Discontinued Operation', 'Tax Provision', 'EBIT', 'Tax Effect of Unusual Items', 'Diluted NI Available to Com Stockholders', 'Pretax Income'}, 'ttm': '162,168', '12/31/2020': '162,168', '12/31/2019': '97,770', '12/31/2018': '1,339'}\n"
     ]
    },
    {
     "data": {
      "text/html": [
       "<div>\n",
       "<style scoped>\n",
       "    .dataframe tbody tr th:only-of-type {\n",
       "        vertical-align: middle;\n",
       "    }\n",
       "\n",
       "    .dataframe tbody tr th {\n",
       "        vertical-align: top;\n",
       "    }\n",
       "\n",
       "    .dataframe thead th {\n",
       "        text-align: right;\n",
       "    }\n",
       "</style>\n",
       "<table border=\"1\" class=\"dataframe\">\n",
       "  <thead>\n",
       "    <tr style=\"text-align: right;\">\n",
       "      <th></th>\n",
       "    </tr>\n",
       "  </thead>\n",
       "  <tbody>\n",
       "  </tbody>\n",
       "</table>\n",
       "</div>"
      ],
      "text/plain": [
       "Empty DataFrame\n",
       "Columns: []\n",
       "Index: []"
      ]
     },
     "execution_count": 40,
     "metadata": {},
     "output_type": "execute_result"
    }
   ],
   "source": [
    "def get_ticker_info():\n",
    "    result = pd.DataFrame(None)\n",
    "    for ticker in tickers[0:1]:\n",
    "        temp = {ticker:{}}\n",
    "        temp_temp = {}\n",
    "        is_link = url + ticker + '?p=' + ticker\n",
    "        financial_url = url + ticker + '/financials?p=' + ticker \n",
    "    \n",
    "        chrome.get(is_link)\n",
    "    \n",
    "        html = chrome.execute_script('return document.body.innerHTML;')\n",
    "        soup = BeautifulSoup(html, 'lxml')\n",
    "    \n",
    "        close_price = [entry.text for entry in soup.find_all('span', {'class':'Trsdu(0.3s) Fw(b) Fz(36px) Mb(-4px) D(ib)'})]\n",
    "        \n",
    "        temp.update({ticker:{'close_price': close_price[0]}})\n",
    "        chrome.get(financial_url)\n",
    "        \n",
    "        html_financial = chrome.execute_script('return document.body.innerHTML;')\n",
    "        soup_financial = BeautifulSoup(html_financial, 'lxml')\n",
    "        \n",
    "        features_raw = soup_financial.find_all('div', class_='D(tbr)')\n",
    "        headers = get_headers(features_raw)\n",
    "        features = get_features(features_raw)\n",
    "        \n",
    "        temp_temp = {header: {} for header in headers}\n",
    "        temp_temp['Breakdown'] = {feature for feature in features}\n",
    "        temp_temp['ttm'] = features['Total Revenue'][0]\n",
    "        temp_temp['12/31/2020'] = features['Total Revenue'][1]\n",
    "        temp_temp['12/31/2019'] = features['Total Revenue'][2]\n",
    "        temp_temp['12/31/2018'] = features['Total Revenue'][3]\n",
    "        \n",
    "        temp.update(temp_temp)\n",
    "        print(temp)\n",
    "            \n",
    "        #result = pd.DataFrame(temp)\n",
    "        \n",
    "    return result\n",
    "get_ticker_info().head()"
   ]
  },
  {
   "cell_type": "code",
   "execution_count": 10,
   "id": "approximate-sucking",
   "metadata": {},
   "outputs": [],
   "source": [
    "#is_link = 'https://finance.yahoo.com/quote/AAPL?p=AAPL'\n",
    "#\n",
    "#chrome = webdriver.Chrome('/usr/bin/chromedriver', options=chrome_options)\n",
    "#chrome.get(is_link)\n",
    "#button = chrome.find_element_by_name('agree')\n",
    "#chrome.execute_script('arguments[0].click()', button)\n",
    "#\n",
    "#html = chrome.execute_script('return document.body.innerHTML;')\n",
    "#\n",
    "#soup = BeautifulSoup(html, 'lxml')"
   ]
  },
  {
   "cell_type": "code",
   "execution_count": 11,
   "id": "precise-commercial",
   "metadata": {},
   "outputs": [],
   "source": [
    "#close_price = [entry.text for entry in soup.find_all('span', {'class':'Trsdu(0.3s) Fw(b) Fz(36px) Mb(-4px) D(ib)'})]"
   ]
  },
  {
   "cell_type": "code",
   "execution_count": 12,
   "id": "powered-captain",
   "metadata": {},
   "outputs": [],
   "source": [
    "#print(close_price[0])"
   ]
  },
  {
   "cell_type": "code",
   "execution_count": 13,
   "id": "labeled-highlight",
   "metadata": {
    "scrolled": false
   },
   "outputs": [],
   "source": [
    "#financial_page = 'https://finance.yahoo.com/quote/AAPL/financials?p=AAPL'\n",
    "#chrome.get(financial_page)\n",
    "#html_financial = chrome.execute_script('return document.body.innerHTML;')\n",
    "#soup_financial = BeautifulSoup(html_financial, 'lxml')"
   ]
  },
  {
   "cell_type": "code",
   "execution_count": 14,
   "id": "peaceful-statement",
   "metadata": {},
   "outputs": [],
   "source": [
    "#features = soup_financial.find_all('div', class_='D(tbr)')\n",
    "#headers, final = _get_features(features)\n",
    "#html_financial = chrome.execute_script('return document.body.innerHTML;')\n",
    "#soup_financial = BeautifulSoup(html_financial, 'lxml')\n",
    "#print(headers)\n",
    "#df = pd.DataFrame(final[1:])\n",
    "#df.columns = headers"
   ]
  },
  {
   "cell_type": "code",
   "execution_count": 15,
   "id": "elder-durham",
   "metadata": {},
   "outputs": [],
   "source": [
    "def convert_to_numeric(column):\n",
    "    first_col = [i.replace(',','') for i in column]\n",
    "    second_col = [i.replace('-','') for i in first_col]\n",
    "    final_col = pd.to_numeric(second_col)\n",
    "    \n",
    "    return final_col"
   ]
  },
  {
   "cell_type": "code",
   "execution_count": 16,
   "id": "purple-proportion",
   "metadata": {},
   "outputs": [],
   "source": [
    "#for column in headers[1:]:\n",
    "#    df[column] = convert_to_numeric(df[column])\n",
    "#\n",
    "#final_df = df.fillna('-')"
   ]
  },
  {
   "cell_type": "code",
   "execution_count": 17,
   "id": "buried-defendant",
   "metadata": {},
   "outputs": [],
   "source": [
    "#final_df"
   ]
  },
  {
   "cell_type": "code",
   "execution_count": null,
   "id": "confident-thompson",
   "metadata": {},
   "outputs": [],
   "source": []
  }
 ],
 "metadata": {
  "kernelspec": {
   "display_name": "Python 3",
   "language": "python",
   "name": "python3"
  },
  "language_info": {
   "codemirror_mode": {
    "name": "ipython",
    "version": 3
   },
   "file_extension": ".py",
   "mimetype": "text/x-python",
   "name": "python",
   "nbconvert_exporter": "python",
   "pygments_lexer": "ipython3",
   "version": "3.8.8"
  }
 },
 "nbformat": 4,
 "nbformat_minor": 5
}
